{
 "cells": [
  {
   "cell_type": "code",
   "execution_count": null,
   "metadata": {},
   "outputs": [],
   "source": [
    "import tensorflow as tf\n",
    "import keras as keras\n",
    "import numpy as np\n",
    "\n",
    "model=keras.Sequential([keras.layers.Dense(units=1,input_shape=[1])])\n",
    "model.compile(optimizer=\"sgd\",loss=\"mean_squared_error\")\n",
    "\n",
    "\n",
    "xs=np.array([1.0,2.0,3.0,4.0],dtype=float)\n",
    "ys=np.array([1.0,3.0,5.0,7.0],dtype=float)\n",
    "\n",
    "\n",
    "model.fit(xs,ys,epochs=500)\n",
    "\n",
    "\n",
    "print(model.predict([10]))\n"
   ]
  },
  {
   "attachments": {},
   "cell_type": "markdown",
   "metadata": {},
   "source": [
    "## what does this code?\n",
    "\n",
    "This code is a nural network example using keras and numpy.\n",
    "The nural network is trained to predict the the output of ys = 2*xs - 1 formula."
   ]
  }
 ],
 "metadata": {
  "language_info": {
   "name": "python"
  },
  "orig_nbformat": 4
 },
 "nbformat": 4,
 "nbformat_minor": 2
}
